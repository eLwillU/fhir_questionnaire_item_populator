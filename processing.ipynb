{
 "cells": [
  {
   "cell_type": "code",
   "id": "initial_id",
   "metadata": {
    "collapsed": true,
    "ExecuteTime": {
     "end_time": "2024-05-28T07:03:42.599298Z",
     "start_time": "2024-05-28T07:03:41.011297Z"
    }
   },
   "source": [
    "import pandas as pd\n",
    "import json\n",
    "import pprint as pp\n"
   ],
   "outputs": [],
   "execution_count": 1
  },
  {
   "metadata": {
    "ExecuteTime": {
     "end_time": "2024-05-27T09:52:08.852518Z",
     "start_time": "2024-05-27T09:52:08.816852Z"
    }
   },
   "cell_type": "code",
   "source": [
    "#defining the functions to create the elements of the questionnaire\n",
    "\n",
    "def createquetiontitle(linkid, prefix, question_text_de, question_text_fr):\n",
    "    templatequestiontitle = {\n",
    "        \"linkId\": linkid,\n",
    "        \"prefix\": prefix,\n",
    "        \"text\": question_text_de,\n",
    "        \"enableWhen\": [],\n",
    "        \"_text\": {\n",
    "            \"extension\": [\n",
    "                {\n",
    "                    \"url\": \"http://hl7.org/fhir/StructureDefinition/translation\",\n",
    "                    \"extension\": [\n",
    "                        {\n",
    "                            \"url\": \"lang\",\n",
    "                            \"valueCode\": \"de\"\n",
    "                        },\n",
    "                        {\n",
    "                            \"url\": \"content\",\n",
    "                            \"valueString\": question_text_de\n",
    "                        }\n",
    "                    ]\n",
    "                },\n",
    "                {\n",
    "                    \"url\": \"http://hl7.org/fhir/StructureDefinition/translation\",\n",
    "                    \"extension\": [\n",
    "                        {\n",
    "                            \"url\": \"lang\",\n",
    "                            \"valueCode\": \"fr\"\n",
    "                        },\n",
    "                        {\n",
    "                            \"url\": \"content\",\n",
    "                            \"valueString\": question_text_fr\n",
    "                        }\n",
    "                    ]\n",
    "                }\n",
    "            ]\n",
    "        },\n",
    "        \"type\": \"choice\",\n",
    "        \"required\": True,\n",
    "        \"answerOption\": [\n",
    "\n",
    "        ]\n",
    "    }\n",
    "    return templatequestiontitle\n",
    "\n",
    "\n",
    "def createansweroption(answer_text_de, answer_text_fr, code):\n",
    "    answeroption = {\n",
    "        \"valueCoding\": {\n",
    "            \"code\": code,\n",
    "            \"display\": answer_text_de,\n",
    "            \"_display\": {\n",
    "                \"extension\": [\n",
    "                    {\n",
    "                        \"url\": \"http://hl7.org/fhir/StructureDefinition/translation\",\n",
    "                        \"extension\": [\n",
    "                            {\n",
    "                                \"url\": \"lang\",\n",
    "                                \"valueCode\": \"de\"\n",
    "                            },\n",
    "                            {\n",
    "                                \"url\": \"content\",\n",
    "                                \"valueString\": answer_text_de\n",
    "                            }\n",
    "                        ]\n",
    "                    },\n",
    "                    {\n",
    "                        \"url\": \"http://hl7.org/fhir/StructureDefinition/translation\",\n",
    "                        \"extension\": [\n",
    "                            {\n",
    "                                \"url\": \"lang\",\n",
    "                                \"valueCode\": \"fr\"\n",
    "                            },\n",
    "                            {\n",
    "                                \"url\": \"content\",\n",
    "                                \"valueString\": answer_text_fr\n",
    "                            }\n",
    "                        ]\n",
    "                    }\n",
    "                ]\n",
    "            }\n",
    "        }\n",
    "    }\n",
    "    return answeroption\n",
    "\n",
    "\n",
    "def writetojson(jsondata):\n",
    "    with open('data.json', 'a', encoding='utf-8') as f:\n",
    "        # Serialize the data and write it to the file\n",
    "        json.dump(jsondata, f, ensure_ascii=False, indent=4)\n",
    "\n",
    "\n",
    "def read_language_sheet(excel_file, sheet_name):\n",
    "    data_frame = pd.read_excel(excel_file, sheet_name=sheet_name,\n",
    "                               dtype={\"linkid\": str,\n",
    "                                      \"prefix\": str,\n",
    "                                      \"numAnswers\": int},\n",
    "                               na_values=[\"NA\"])\n",
    "\n",
    "    return data_frame\n",
    "\n",
    "\n"
   ],
   "id": "25b20a62add4598d",
   "outputs": [],
   "execution_count": 2
  },
  {
   "metadata": {
    "ExecuteTime": {
     "end_time": "2024-05-27T09:52:10.640875Z",
     "start_time": "2024-05-27T09:52:09.866524Z"
    }
   },
   "cell_type": "code",
   "source": [
    "#reading the data\n",
    "\n",
    "file = pd.ExcelFile('data/data.xlsx')\n",
    "\n",
    "df_german = read_language_sheet(file, \"german\")\n",
    "df_french = read_language_sheet(file, \"french\")"
   ],
   "id": "5cd9502a298af492",
   "outputs": [],
   "execution_count": 3
  },
  {
   "metadata": {
    "ExecuteTime": {
     "end_time": "2024-05-27T09:52:23.107757Z",
     "start_time": "2024-05-27T09:52:22.976432Z"
    }
   },
   "cell_type": "code",
   "source": [
    "#Creating and saving the data\n",
    "\n",
    "res = []\n",
    "\n",
    "for index, row in df_german.iterrows():\n",
    "    counter = 0\n",
    "    #num_answers_value = row[\"numAnswers\"]\n",
    "\n",
    "    german_value = df_german.loc[index, \"question_text_de\"]\n",
    "    german_row = df_german.loc[index]\n",
    "\n",
    "    french_value = df_french.loc[index, \"question_text_fr\"]\n",
    "    french_row = df_french.loc[index]\n",
    "    options = []\n",
    "\n",
    "    title = createquetiontitle(linkid=row[\"linkid\"], prefix=row[\"prefix\"], question_text_de=german_value,\n",
    "                               question_text_fr=french_value)\n",
    "\n",
    "    for i, element in german_row[5:].items():\n",
    "        if pd.notna(element):\n",
    "            german_answer = element\n",
    "            french_answer = french_row[i]\n",
    "\n",
    "            answerOption = createansweroption(answer_text_de=german_answer, answer_text_fr=french_answer, code=counter)\n",
    "            counter += 1\n",
    "            options.append(answerOption)\n",
    "\n",
    "    title[\"answerOption\"].extend(options)\n",
    "    res.append(title)\n",
    "\n",
    "writetojson(res)\n"
   ],
   "id": "110b2eed2a343313",
   "outputs": [],
   "execution_count": 5
  },
  {
   "metadata": {},
   "cell_type": "code",
   "outputs": [],
   "execution_count": null,
   "source": "",
   "id": "95d9f2a094b34ee9"
  }
 ],
 "metadata": {
  "kernelspec": {
   "display_name": "Python 3",
   "language": "python",
   "name": "python3"
  },
  "language_info": {
   "codemirror_mode": {
    "name": "ipython",
    "version": 2
   },
   "file_extension": ".py",
   "mimetype": "text/x-python",
   "name": "python",
   "nbconvert_exporter": "python",
   "pygments_lexer": "ipython2",
   "version": "2.7.6"
  }
 },
 "nbformat": 4,
 "nbformat_minor": 5
}
