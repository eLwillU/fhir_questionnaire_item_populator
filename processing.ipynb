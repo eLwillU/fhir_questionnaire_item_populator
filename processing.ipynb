{
 "cells": [
  {
   "cell_type": "code",
   "id": "initial_id",
   "metadata": {
    "collapsed": true,
    "ExecuteTime": {
     "end_time": "2024-05-25T14:31:02.340407Z",
     "start_time": "2024-05-25T14:31:02.333461Z"
    }
   },
   "source": [
    "import pandas as pd\n",
    "import json\n",
    "import pprint as pp\n"
   ],
   "outputs": [],
   "execution_count": 2
  },
  {
   "metadata": {
    "ExecuteTime": {
     "end_time": "2024-05-25T14:31:03.526257Z",
     "start_time": "2024-05-25T14:31:03.512340Z"
    }
   },
   "cell_type": "code",
   "source": [
    "def createquetiontitle(linkid, prefix, question_text_de, question_text_fr):\n",
    "    templatequestiontitle = {\n",
    "        \"linkId\": linkid,\n",
    "        \"prefix\": prefix,\n",
    "        \"text\": question_text_de,\n",
    "        \"enableWhen\": [],\n",
    "        \"_text\": {\n",
    "            \"extension\": [\n",
    "                {\n",
    "                    \"url\": \"http://hl7.org/fhir/StructureDefinition/translation\",\n",
    "                    \"extension\": [\n",
    "                        {\n",
    "                            \"url\": \"lang\",\n",
    "                            \"valueCode\": \"de\"\n",
    "                        },\n",
    "                        {\n",
    "                            \"url\": \"content\",\n",
    "                            \"valueString\": question_text_de\n",
    "                        }\n",
    "                    ]\n",
    "                },\n",
    "                {\n",
    "                    \"url\": \"http://hl7.org/fhir/StructureDefinition/translation\",\n",
    "                    \"extension\": [\n",
    "                        {\n",
    "                            \"url\": \"lang\",\n",
    "                            \"valueCode\": \"fr\"\n",
    "                        },\n",
    "                        {\n",
    "                            \"url\": \"content\",\n",
    "                            \"valueString\": question_text_fr\n",
    "                        }\n",
    "                    ]\n",
    "                }\n",
    "            ]\n",
    "        },\n",
    "        \"type\": \"choice\",\n",
    "        \"required\": True,\n",
    "        \"answerOption\": [\n",
    "\n",
    "        ]\n",
    "    }\n",
    "    return templatequestiontitle\n",
    "\n",
    "\n",
    "def createansweroption(answer_text_de, answer_text_fr, code):\n",
    "    answeroption = {\n",
    "        \"valueCoding\": {\n",
    "            \"code\": code,\n",
    "            \"display\": answer_text_de,\n",
    "            \"_display\": {\n",
    "                \"extension\": [\n",
    "                    {\n",
    "                        \"url\": \"http://hl7.org/fhir/StructureDefinition/translation\",\n",
    "                        \"extension\": [\n",
    "                            {\n",
    "                                \"url\": \"lang\",\n",
    "                                \"valueCode\": \"de\"\n",
    "                            },\n",
    "                            {\n",
    "                                \"url\": \"content\",\n",
    "                                \"valueString\": answer_text_de\n",
    "                            }\n",
    "                        ]\n",
    "                    },\n",
    "                    {\n",
    "                        \"url\": \"http://hl7.org/fhir/StructureDefinition/translation\",\n",
    "                        \"extension\": [\n",
    "                            {\n",
    "                                \"url\": \"lang\",\n",
    "                                \"valueCode\": \"fr\"\n",
    "                            },\n",
    "                            {\n",
    "                                \"url\": \"content\",\n",
    "                                \"valueString\": answer_text_fr\n",
    "                            }\n",
    "                        ]\n",
    "                    }\n",
    "                ]\n",
    "            }\n",
    "        }\n",
    "    }\n",
    "    return answeroption\n",
    "\n",
    "\n",
    "def writetojson(jsondata):\n",
    "    with open('data.json', 'a', encoding='utf-8') as f:\n",
    "        # Serialize the data and write it to the file\n",
    "        json.dump(jsondata, f, ensure_ascii=False, indent=4)\n",
    "\n",
    "\n"
   ],
   "id": "25b20a62add4598d",
   "outputs": [],
   "execution_count": 3
  },
  {
   "metadata": {},
   "cell_type": "code",
   "source": [
    "df = pd.read_excel('data/data.xlsx',\n",
    "                   dtype={\"linkid\": int,\n",
    "                          \"prefix\": int,\n",
    "                          \"numAnswers\": int},\n",
    "                   na_values=[\"NA\"])\n",
    "\n",
    "res = []\n",
    "options = []\n",
    "\n",
    "for index, row in df.iterrows():\n",
    "    juan = createquetiontitle(linkid=row[\"linkid\"], prefix=row[\"prefix\"], question_text_de=row[\"question_text_de\"],\n",
    "                              question_text_fr=row[\"question_text_fr\"])\n",
    "\n",
    "    german_value = \"\"\n",
    "    french_value = \"\"\n",
    "    counter = 0\n",
    "    num_answers_value = row[\"numAnswers\"]\n",
    "\n",
    "    for i, (german, french) in enumerate(zip(row[6:], row.iloc[6 + num_answers_value:])):\n",
    "        if i == num_answers_value:\n",
    "            break\n",
    "        if pd.notna(german):\n",
    "            german_value = german\n",
    "        if pd.notna(french):\n",
    "            french_value = french\n",
    "        juan_son = createansweroption(answer_text_de=german_value, answer_text_fr=french_value, code=counter)\n",
    "        counter += 1\n",
    "        options.append(juan_son)\n",
    "\n",
    "    juan[\"answerOption\"].extend(options)\n",
    "    res.append(juan)\n",
    "\n",
    "writetojson(res)"
   ],
   "id": "91a70bc84bdd10f3",
   "outputs": [],
   "execution_count": null
  },
  {
   "metadata": {},
   "cell_type": "code",
   "source": [
    "file = pd.ExcelFile('data/data.xlsx')\n",
    "print(file.sheet_names)\n",
    "\n",
    "df = pd.read_excel(file, sheet_name=\"Sheet1\",\n",
    "                   dtype={\"linkid\": int,\n",
    "                          \"prefix\": int,\n",
    "                          \"numAnswers\": int},\n",
    "                   na_values=[\"NA\"])\n",
    "\n",
    "df\n"
   ],
   "id": "181859d4f762c21",
   "outputs": [],
   "execution_count": null
  },
  {
   "metadata": {
    "ExecuteTime": {
     "end_time": "2024-05-25T14:31:08.444475Z",
     "start_time": "2024-05-25T14:31:08.124489Z"
    }
   },
   "cell_type": "code",
   "source": [
    "file = pd.ExcelFile('data/data.xlsx')\n",
    "\n",
    "df_german = \"\"\n",
    "df_french = \"\"\n",
    "\n",
    "\n",
    "def read_language_sheet(excel_file, sheet_name):\n",
    "    data_frame = pd.read_excel(excel_file, sheet_name=sheet_name,\n",
    "                               dtype={\"linkid\": int,\n",
    "                                      \"prefix\": int,\n",
    "                                      \"numAnswers\": int},\n",
    "                               na_values=[\"NA\"])\n",
    "\n",
    "    return data_frame\n",
    "\n",
    "\n",
    "df_german = read_language_sheet(file, \"german\")\n",
    "df_french = read_language_sheet(file, \"french\")\n"
   ],
   "id": "5cd9502a298af492",
   "outputs": [],
   "execution_count": 4
  },
  {
   "metadata": {
    "ExecuteTime": {
     "end_time": "2024-05-25T14:34:26.516495Z",
     "start_time": "2024-05-25T14:34:26.503148Z"
    }
   },
   "cell_type": "code",
   "source": [
    "res = []\n",
    "\n",
    "for index, row in df_german.iterrows():\n",
    "    counter = 0\n",
    "    num_answers_value = row[\"numAnswers\"]\n",
    "\n",
    "    german_value = df_german.loc[index, \"question_text_de\"]\n",
    "    german_row = df_german.loc[index]\n",
    "\n",
    "    french_value = df_french.loc[index, \"question_text_fr\"]\n",
    "    french_row = df_french.loc[index]\n",
    "    options = []\n",
    "\n",
    "    title = createquetiontitle(linkid=row[\"linkid\"], prefix=row[\"prefix\"], question_text_de=german_value,\n",
    "                               question_text_fr=french_value)\n",
    "\n",
    "    for i, element in german_row[5:].items():\n",
    "        if pd.notna(element):\n",
    "            german_answer = element\n",
    "            french_answer = french_row[i]\n",
    "\n",
    "            answerOption = createansweroption(answer_text_de=german_answer, answer_text_fr=french_answer, code=counter)\n",
    "            counter += 1\n",
    "            options.append(answerOption)\n",
    "\n",
    "            \n",
    "    \n",
    "    title[\"answerOption\"].extend(options)\n",
    "    res.append(title)\n",
    "\n",
    "writetojson(res)\n"
   ],
   "id": "110b2eed2a343313",
   "outputs": [
    {
     "name": "stdout",
     "output_type": "stream",
     "text": [
      "title updated\n",
      "title updated\n",
      "title updated\n",
      "title updated\n"
     ]
    }
   ],
   "execution_count": 13
  },
  {
   "metadata": {
    "ExecuteTime": {
     "end_time": "2024-05-25T14:32:05.121018Z",
     "start_time": "2024-05-25T14:32:05.116486Z"
    }
   },
   "cell_type": "code",
   "source": "",
   "id": "13b0c092ee11bdbb",
   "outputs": [],
   "execution_count": 7
  },
  {
   "metadata": {},
   "cell_type": "code",
   "outputs": [],
   "execution_count": null,
   "source": "",
   "id": "17fe287e41de897c"
  }
 ],
 "metadata": {
  "kernelspec": {
   "display_name": "Python 3",
   "language": "python",
   "name": "python3"
  },
  "language_info": {
   "codemirror_mode": {
    "name": "ipython",
    "version": 2
   },
   "file_extension": ".py",
   "mimetype": "text/x-python",
   "name": "python",
   "nbconvert_exporter": "python",
   "pygments_lexer": "ipython2",
   "version": "2.7.6"
  }
 },
 "nbformat": 4,
 "nbformat_minor": 5
}
